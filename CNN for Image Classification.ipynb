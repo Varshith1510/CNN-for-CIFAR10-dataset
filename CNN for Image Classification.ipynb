{
 "cells": [
  {
   "cell_type": "code",
   "execution_count": 1,
   "id": "daa33c30",
   "metadata": {},
   "outputs": [],
   "source": [
    "# Import necessary libraries\n",
    "import numpy as np\n",
    "import matplotlib.pyplot as plt\n",
    "import tensorflow as tf\n",
    "from tensorflow import keras"
   ]
  },
  {
   "cell_type": "code",
   "execution_count": 2,
   "id": "c595b7ae",
   "metadata": {},
   "outputs": [],
   "source": [
    "# Importing the dataset from keras\n",
    "df = keras.datasets.cifar10.load_data()\n",
    "# The data is in the form of a tuple\n",
    "# The data has already been split into training & testing\n",
    "x_train = df[0][0]\n",
    "y_train = df[0][1]\n",
    "x_test = df[1][0]\n",
    "y_test = df[1][1]"
   ]
  },
  {
   "cell_type": "code",
   "execution_count": 3,
   "id": "45a67e20",
   "metadata": {},
   "outputs": [
    {
     "data": {
      "text/plain": [
       "(50000, 32, 32, 3)"
      ]
     },
     "execution_count": 3,
     "metadata": {},
     "output_type": "execute_result"
    }
   ],
   "source": [
    "# The train data contains 50,000 images with each image of dimension (32 x 32 x 3), where 3 -> no of RGB channels\n",
    "x_train.shape"
   ]
  },
  {
   "cell_type": "code",
   "execution_count": 4,
   "id": "de22f1ed",
   "metadata": {},
   "outputs": [
    {
     "data": {
      "text/plain": [
       "array([[6],\n",
       "       [9],\n",
       "       [9],\n",
       "       ...,\n",
       "       [9],\n",
       "       [1],\n",
       "       [1]], dtype=uint8)"
      ]
     },
     "execution_count": 4,
     "metadata": {},
     "output_type": "execute_result"
    }
   ],
   "source": [
    "# Contains the labels of the images(objects) \n",
    "y_train"
   ]
  },
  {
   "cell_type": "code",
   "execution_count": 5,
   "id": "38744739",
   "metadata": {},
   "outputs": [],
   "source": [
    "# Reshaping the target classes to a 1D array\n",
    "y_train = y_train.reshape(-1,)\n",
    "y_test = y_test.reshape(-1,)"
   ]
  },
  {
   "cell_type": "code",
   "execution_count": 6,
   "id": "205b569b",
   "metadata": {},
   "outputs": [],
   "source": [
    "# The different types of images present in the data\n",
    "classes = [\"airplane\", \"automobile\", \"bird\", \"cat\", \"deer\", \"dog\", \"frog\", \"horse\", \"ship\", \"truck\"]"
   ]
  },
  {
   "cell_type": "code",
   "execution_count": 21,
   "id": "bb5cd548",
   "metadata": {},
   "outputs": [],
   "source": [
    "# To display the image & label of a record in the dataset\n",
    "def show_image(x,y,index):\n",
    "    plt.figure(figsize = (15,2.5))\n",
    "    plt.imshow(x[index])\n",
    "    plt.xlabel(classes[y[index]])"
   ]
  },
  {
   "cell_type": "code",
   "execution_count": 22,
   "id": "6621818c",
   "metadata": {},
   "outputs": [
    {
     "data": {
      "image/png": "[encoded data removed]",
      "text/plain": [
       "<Figure size 1080x180 with 1 Axes>"
      ]
     },
     "metadata": {
      "needs_background": "light"
     },
     "output_type": "display_data"
    }
   ],
   "source": [
    "show_image(x_train,y_train,0)"
   ]
  },
  {
   "cell_type": "code",
   "execution_count": 9,
   "id": "006f0f9f",
   "metadata": {},
   "outputs": [],
   "source": [
    "# Since the data contains values of high difference (because of the RGB values, let us scale them)\n",
    "x_train = x_train/255\n",
    "x_test = x_test/255"
   ]
  },
  {
   "cell_type": "markdown",
   "id": "b8b7ee09",
   "metadata": {},
   "source": [
    "#### CNN Model"
   ]
  },
  {
   "cell_type": "code",
   "execution_count": 10,
   "id": "4fc056fb",
   "metadata": {},
   "outputs": [
    {
     "name": "stdout",
     "output_type": "stream",
     "text": [
      "Epoch 1/10\n",
      "1563/1563 [==============================] - 43s 27ms/step - loss: 2.1322 - accuracy: 0.2032\n",
      "Epoch 2/10\n",
      "1563/1563 [==============================] - 48s 30ms/step - loss: 1.8360 - accuracy: 0.3269\n",
      "Epoch 3/10\n",
      "1563/1563 [==============================] - 54s 35ms/step - loss: 1.6033 - accuracy: 0.4159\n",
      "Epoch 4/10\n",
      "1563/1563 [==============================] - 58s 37ms/step - loss: 1.4696 - accuracy: 0.4666\n",
      "Epoch 5/10\n",
      "1563/1563 [==============================] - 55s 35ms/step - loss: 1.3856 - accuracy: 0.5018\n",
      "Epoch 6/10\n",
      "1563/1563 [==============================] - 61s 39ms/step - loss: 1.3174 - accuracy: 0.5265\n",
      "Epoch 7/10\n",
      "1563/1563 [==============================] - 60s 39ms/step - loss: 1.2582 - accuracy: 0.5503\n",
      "Epoch 8/10\n",
      "1563/1563 [==============================] - 56s 36ms/step - loss: 1.2070 - accuracy: 0.5725\n",
      "Epoch 9/10\n",
      "1563/1563 [==============================] - 61s 39ms/step - loss: 1.1598 - accuracy: 0.5912\n",
      "Epoch 10/10\n",
      "1563/1563 [==============================] - 63s 40ms/step - loss: 1.1190 - accuracy: 0.6063\n"
     ]
    },
    {
     "data": {
      "text/plain": [
       "<keras.callbacks.History at 0x1e455e28ee0>"
      ]
     },
     "execution_count": 10,
     "metadata": {},
     "output_type": "execute_result"
    }
   ],
   "source": [
    "# Specifying the layers\n",
    "model = keras.Sequential(\n",
    "        [\n",
    "        # Convolutional Layers\n",
    "        keras.layers.Conv2D(filters = 64,kernel_size = (3,3),activation = 'relu',input_shape = (32,32,3)), # Convolutional layer 1\n",
    "        keras.layers.MaxPooling2D(pool_size = (2,2)),\n",
    "        \n",
    "        keras.layers.Conv2D(filters = 48, kernel_size = (3,3), activation = 'relu'),  # Convolutional layer 2\n",
    "        keras.layers.MaxPooling2D(pool_size = (2,2)),\n",
    "            \n",
    "        keras.layers.Conv2D(filters = 32, kernel_size = (3,3), activation = 'relu'),  # Convolutional layer 3\n",
    "        keras.layers.MaxPooling2D(pool_size = (2,2)),\n",
    "            \n",
    "        # Flattening the 3D array to 1D to build a simple densely connected ANN\n",
    "        keras.layers.Flatten(), \n",
    "        \n",
    "        # Dense Layers   \n",
    "        keras.layers.Dense(500,activation = 'relu'), # Dense layer 1\n",
    "        keras.layers.Dense(10,activation = 'softmax') # Dense layer 2\n",
    "        ]\n",
    ")\n",
    "\n",
    "# Specifying the loss & optimizer function\n",
    "model.compile(optimizer = \"SGD\",loss = \"SparseCategoricalCrossentropy\",metrics = [\"accuracy\"])\n",
    "\n",
    "# Fitting the model with train data\n",
    "model_history = model.fit(x_train,y_train,epochs = 10)\n",
    "model_history"
   ]
  },
  {
   "cell_type": "code",
   "execution_count": 11,
   "id": "347ba79b",
   "metadata": {},
   "outputs": [
    {
     "data": {
      "text/plain": [
       "<matplotlib.legend.Legend at 0x1e3d930f7c0>"
      ]
     },
     "execution_count": 11,
     "metadata": {},
     "output_type": "execute_result"
    },
    {
     "data": {
      "image/png": "[encoded data removed]",
      "text/plain": [
       "<Figure size 432x288 with 1 Axes>"
      ]
     },
     "metadata": {
      "needs_background": "light"
     },
     "output_type": "display_data"
    }
   ],
   "source": [
    "# Plotting the training loss & accuracy\n",
    "plt.title('Training loss & Accuracy')\n",
    "plt.xlabel('No of epochs')\n",
    "plt.ylabel('Accuracy & Loss')\n",
    "plt.plot(model_history.history[\"accuracy\"],label = 'Accuracy')\n",
    "plt.plot(model_history.history[\"loss\"], label = 'Loss')\n",
    "plt.legend()"
   ]
  },
  {
   "cell_type": "code",
   "execution_count": 12,
   "id": "277b86a6",
   "metadata": {},
   "outputs": [
    {
     "name": "stdout",
     "output_type": "stream",
     "text": [
      "313/313 [==============================] - 5s 14ms/step - loss: 1.1234 - accuracy: 0.5999\n"
     ]
    },
    {
     "data": {
      "text/plain": [
       "[1.1233878135681152, 0.5999000072479248]"
      ]
     },
     "execution_count": 12,
     "metadata": {},
     "output_type": "execute_result"
    }
   ],
   "source": [
    "# Evaluating the model on test data\n",
    "model.evaluate(x_test,y_test)"
   ]
  },
  {
   "cell_type": "markdown",
   "id": "9558c8d9",
   "metadata": {},
   "source": [
    "##### Evaluating the model for train data"
   ]
  },
  {
   "cell_type": "code",
   "execution_count": 53,
   "id": "dfcbe8f7",
   "metadata": {},
   "outputs": [
    {
     "name": "stdout",
     "output_type": "stream",
     "text": [
      "313/313 [==============================] - 5s 14ms/step\n"
     ]
    }
   ],
   "source": [
    "# Predicting the test data\n",
    "y_pred = model.predict(x_test)\n",
    "y_pred = [np.argmax(data) for data in y_pred]"
   ]
  },
  {
   "cell_type": "code",
   "execution_count": 74,
   "id": "6062ee03",
   "metadata": {},
   "outputs": [
    {
     "data": {
      "text/plain": [
       "[33295, 14047]"
      ]
     },
     "execution_count": 74,
     "metadata": {},
     "output_type": "execute_result"
    }
   ],
   "source": [
    "# Taking any 2 random images from the training data\n",
    "training_data = [np.random.randint(0,x_train.shape[0]) for i in range(2)]\n",
    "training_data # Contains the indices of the images"
   ]
  },
  {
   "cell_type": "code",
   "execution_count": 75,
   "id": "dff7dd68",
   "metadata": {},
   "outputs": [
    {
     "data": {
      "image/png": "[encoded data removed]",
      "text/plain": [
       "<Figure size 1080x180 with 1 Axes>"
      ]
     },
     "metadata": {
      "needs_background": "light"
     },
     "output_type": "display_data"
    },
    {
     "data": {
      "image/png": "[encoded data removed]",
      "text/plain": [
       "<Figure size 1080x180 with 1 Axes>"
      ]
     },
     "metadata": {
      "needs_background": "light"
     },
     "output_type": "display_data"
    }
   ],
   "source": [
    "# Taking training image\n",
    "for index in training_data:\n",
    "    show_image(x_train,y_train,index)"
   ]
  },
  {
   "cell_type": "code",
   "execution_count": 76,
   "id": "4cbd0f98",
   "metadata": {},
   "outputs": [],
   "source": [
    "# Actual class of the train image\n",
    "actual_class = []\n",
    "for i in training_data:\n",
    "    actual_class.append(classes[y_train[i]])"
   ]
  },
  {
   "cell_type": "code",
   "execution_count": 77,
   "id": "4016d6eb",
   "metadata": {},
   "outputs": [],
   "source": [
    "# Predicted class of the train image\n",
    "predicted_class = []\n",
    "for i in testing_data:\n",
    "    predicted_class.append(classes[(y_pred[i])])"
   ]
  },
  {
   "cell_type": "code",
   "execution_count": 78,
   "id": "d261c89b",
   "metadata": {},
   "outputs": [
    {
     "name": "stdout",
     "output_type": "stream",
     "text": [
      "Actual class:  ['dog', 'cat']\n",
      "Predicted class:  ['dog', 'bird']\n"
     ]
    }
   ],
   "source": [
    "print(\"Actual class: \",actual_class)\n",
    "print(\"Predicted class: \",predicted_class)"
   ]
  },
  {
   "cell_type": "markdown",
   "id": "74ff7da1",
   "metadata": {},
   "source": [
    "##### Evaluating the model for test data "
   ]
  },
  {
   "cell_type": "code",
   "execution_count": 84,
   "id": "185f3ede",
   "metadata": {},
   "outputs": [
    {
     "data": {
      "text/plain": [
       "[1683, 478]"
      ]
     },
     "execution_count": 84,
     "metadata": {},
     "output_type": "execute_result"
    }
   ],
   "source": [
    "# Taking any 2 random images from the test data\n",
    "testing_data = [np.random.randint(0,x_test.shape[0]) for i in range(2)]\n",
    "testing_data # Contains the indices of the images"
   ]
  },
  {
   "cell_type": "code",
   "execution_count": 85,
   "id": "4afde959",
   "metadata": {},
   "outputs": [
    {
     "data": {
      "image/png": "[encoded data removed]",
      "text/plain": [
       "<Figure size 1080x180 with 1 Axes>"
      ]
     },
     "metadata": {
      "needs_background": "light"
     },
     "output_type": "display_data"
    },
    {
     "data": {
      "image/png": "[encoded data removed]",
      "text/plain": [
       "<Figure size 1080x180 with 1 Axes>"
      ]
     },
     "metadata": {
      "needs_background": "light"
     },
     "output_type": "display_data"
    }
   ],
   "source": [
    "# Taking a test image\n",
    "for index in testing_data:\n",
    "    show_image(x_test,y_test,index)"
   ]
  },
  {
   "cell_type": "code",
   "execution_count": 86,
   "id": "b9e2bd29",
   "metadata": {},
   "outputs": [],
   "source": [
    "# Actual class of the test image\n",
    "actual_class = []\n",
    "for i in testing_data:\n",
    "    actual_class.append(classes[y_test[i]])"
   ]
  },
  {
   "cell_type": "code",
   "execution_count": 87,
   "id": "aed189c7",
   "metadata": {},
   "outputs": [],
   "source": [
    "# Predicted class of the test image\n",
    "predicted_class = []\n",
    "for i in testing_data:\n",
    "    predicted_class.append(classes[(y_pred[i])])"
   ]
  },
  {
   "cell_type": "code",
   "execution_count": 88,
   "id": "f4c55516",
   "metadata": {},
   "outputs": [
    {
     "name": "stdout",
     "output_type": "stream",
     "text": [
      "Actual class:  ['ship', 'dog']\n",
      "Predicted class:  ['ship', 'dog']\n"
     ]
    }
   ],
   "source": [
    "print(\"Actual class: \",actual_class)\n",
    "print(\"Predicted class: \",predicted_class)"
   ]
  },
  {
   "cell_type": "code",
   "execution_count": 18,
   "id": "579fb724",
   "metadata": {},
   "outputs": [
    {
     "name": "stdout",
     "output_type": "stream",
     "text": [
      "Classification Report: \n",
      "               precision    recall  f1-score   support\n",
      "\n",
      "           0       0.73      0.55      0.63      1000\n",
      "           1       0.64      0.81      0.72      1000\n",
      "           2       0.46      0.50      0.48      1000\n",
      "           3       0.46      0.35      0.40      1000\n",
      "           4       0.56      0.47      0.51      1000\n",
      "           5       0.46      0.60      0.52      1000\n",
      "           6       0.64      0.75      0.69      1000\n",
      "           7       0.73      0.59      0.65      1000\n",
      "           8       0.72      0.71      0.72      1000\n",
      "           9       0.66      0.66      0.66      1000\n",
      "\n",
      "    accuracy                           0.60     10000\n",
      "   macro avg       0.61      0.60      0.60     10000\n",
      "weighted avg       0.61      0.60      0.60     10000\n",
      "\n"
     ]
    }
   ],
   "source": [
    "from sklearn.metrics import classification_report\n",
    "\n",
    "print(\"Classification Report: \\n\",classification_report(y_test,y_pred))"
   ]
  }
 ],
 "metadata": {
  "kernelspec": {
   "display_name": "Python 3 (ipykernel)",
   "language": "python",
   "name": "python3"
  },
  "language_info": {
   "codemirror_mode": {
    "name": "ipython",
    "version": 3
   },
   "file_extension": ".py",
   "mimetype": "text/x-python",
   "name": "python",
   "nbconvert_exporter": "python",
   "pygments_lexer": "ipython3",
   "version": "3.9.7"
  }
 },
 "nbformat": 4,
 "nbformat_minor": 5
}
